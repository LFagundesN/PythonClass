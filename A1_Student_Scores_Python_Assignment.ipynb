{
  "nbformat": 4,
  "nbformat_minor": 0,
  "metadata": {
    "colab": {
      "provenance": [],
      "authorship_tag": "ABX9TyMra8KdAB19srj27XZedMJ2",
      "include_colab_link": true
    },
    "kernelspec": {
      "name": "python3",
      "display_name": "Python 3"
    },
    "language_info": {
      "name": "python"
    }
  },
  "cells": [
    {
      "cell_type": "markdown",
      "metadata": {
        "id": "view-in-github",
        "colab_type": "text"
      },
      "source": [
        "<a href=\"https://colab.research.google.com/github/LFagundesN/PythonClass/blob/main/A1_Student_Scores_Python_Assignment.ipynb\" target=\"_parent\"><img src=\"https://colab.research.google.com/assets/colab-badge.svg\" alt=\"Open In Colab\"/></a>"
      ]
    },
    {
      "cell_type": "markdown",
      "source": [
        "# **A1: Student Scores Python Assignment**\n",
        "\n",
        "### Leticia Fagundes Netto"
      ],
      "metadata": {
        "id": "6FX_VUrY06Qf"
      }
    },
    {
      "cell_type": "markdown",
      "source": [
        "Documents with the Codes used to create the random entries for the Student Scores -> [Creating the Entries for the Assignment](https://github.com/LFagundesN/PythonClass/blob/34b256d880ea05a5aa20a0b9eb6bf54b45a1530c/Assignment_1_Generating_data.ipynb)"
      ],
      "metadata": {
        "id": "2ky9pztFaRHC"
      }
    },
    {
      "cell_type": "markdown",
      "source": [
        "Write a short Python script that meets all the following requirements:\n",
        "\n",
        "Your code must:\n",
        "\n",
        "*  Define at least one function that performs a specific task.\n",
        "*  Create and use a dictionary to store or process information.\n",
        "*  Include a loop (either for or while) to iterate over data.\n",
        "*  Use a conditional (if, elif, else) to make decisions."
      ],
      "metadata": {
        "id": "MVo_30JmU-tH"
      }
    },
    {
      "cell_type": "code",
      "execution_count": 14,
      "metadata": {
        "id": "vad5QZZO0N0J"
      },
      "outputs": [],
      "source": [
        "students = [\n",
        "    ('St_1', 'Olivia Carter', 77, 89),\n",
        "    ('St_2', 'Ethan Brooks', 61, 46),\n",
        "    ('St_3', 'Sophia Bennett', 89, 59),\n",
        "    ('St_4', 'Noah Wallace', 87, 81),\n",
        "    ('St_5', 'Isabella Grant', 73, 85),\n",
        "    ('St_6', 'Liam Turner', 76, 94),\n",
        "    ('St_7', 'Amelia Foster', 74, 50),\n",
        "    ('St_8', 'Mason Clarke', 64, 79),\n",
        "    ('St_9', 'Ava Reynolds', 90, 87),\n",
        "    ('St_10', 'Lucas Hayes', 76, 40),\n",
        "    ('St_11', 'Mia Saunders', 52, 88),\n",
        "    ('St_12', 'Elijah Ford', 79, 70),\n",
        "    ('St_13', 'Charlotte Dean', 92, 98),\n",
        "    ('St_14', 'Henry Walsh', 81, 87),\n",
        "    ('St_15', 'Emily Lawson', 80, 77),\n",
        "    ('St_16', 'Benjamin Cole', 83, 77),\n",
        "    ('St_17', 'Grace Mitchell', 69, 57),\n",
        "    ('St_18', 'James Porter', 78, 99),\n",
        "    ('St_19', 'Lily Hart', 87, 75),\n",
        "    ('St_20', 'Daniel Webb', 67, 82),\n",
        "    ('St_21', 'Chloe Adams', 59, 68),\n",
        "    ('St_22', 'Alexander Drake', 46, 76),\n",
        "    ('St_23', 'Harper Quinn', 60, 30),\n",
        "    ('St_24', 'Jacob Palmer', 97, 85),\n",
        "    ('St_25', 'Ella Maxwell', 56, 41),\n",
        "    ('St_26', 'Samuel Bates', 64, 49),\n",
        "    ('St_27', 'Scarlett James', 84, 87),\n",
        "    ('St_28', 'Leo Armstrong', 81, 57),\n",
        "    ('St_29', 'Ivy Newman', 100, 79),\n",
        "    ('St_30', 'Caleb Ross', 75, 54),\n",
        "    ('St_31', 'Aria Blake', 59, 32),\n",
        "    ('St_32', 'Nathan Ellis', 100, 79),\n",
        "    ('St_33', 'Zoe Chapman', 51, 72),\n",
        "    ('St_34', 'Gabriel Lane', 75, 48),\n",
        "    ('St_35', 'Ruby Sinclair', 66, 84),\n",
        "    ('St_36', 'Isaac Doyle', 88, 100),\n",
        "    ('St_37', 'Nora Matthews', 65, 86),\n",
        "    ('St_38', 'Owen Barrett', 92, 44),\n",
        "    ('St_39', 'Isla Hudson', 64, 55),\n",
        "    ('St_40', 'Julian Shepherd', 91, 79),\n",
        "    ('St_41', 'Maya Gilbert', 87, 42),\n",
        "    ('St_42', 'Dylan Rhodes', 76, 70),\n",
        "    ('St_43', 'Sienna Fraser', 64, 85),\n",
        "    ('St_44', 'Aiden Lowe', 63, 90),\n",
        "    ('St_45', 'Violet Morgan', 60, 36),\n",
        "    ('St_46', 'Ryan Bell', 68, 86),\n",
        "    ('St_47', 'Penelope Hughes', 80, 92),\n",
        "    ('St_48', 'Austin McCarthy', 59, 74),\n",
        "    ('St_49', 'Eliza Rowe', 78, 93),\n",
        "    ('St_50', 'Theo Nash', 83, 74)\n",
        "]"
      ]
    },
    {
      "cell_type": "code",
      "source": [
        "# Final Grades\n",
        "\n",
        "def final_grades(data):\n",
        "    return [\n",
        "        (st_id, name, g1, g2, round((g1 + 2 * g2) / 3, 2))\n",
        "        for (st_id, name, g1, g2) in data\n",
        "    ]"
      ],
      "metadata": {
        "id": "rDpNLGTN1qUi"
      },
      "execution_count": 15,
      "outputs": []
    },
    {
      "cell_type": "code",
      "source": [
        "# Function: Average Grades Calculator\n",
        "def average_grades(grades_list):\n",
        "    return round(sum(grades_list) / len(grades_list), 2)"
      ],
      "metadata": {
        "id": "YtaJpURC1XAB"
      },
      "execution_count": 16,
      "outputs": []
    },
    {
      "cell_type": "code",
      "source": [
        "# Average Grades\n",
        "students_with_final = final_grades(students)\n",
        "finals = [entry[4] for entry in students_with_final]\n",
        "g1s = [entry[2] for entry in students_with_final]\n",
        "g2s = [entry[3] for entry in students_with_final]\n",
        "\n",
        "# Calculate Averages with the functions\n",
        "avg_g1 = average_grades(g1s)\n",
        "avg_g2 = average_grades(g2s)\n",
        "avg = average_grades(finals)\n",
        "\n",
        "print(f\"Average Grade 1: {avg_g1}\")\n",
        "print(f\"Average Grade 2: {avg_g2}\")\n",
        "print(f\"Average Final Grade: {avg}\")"
      ],
      "metadata": {
        "colab": {
          "base_uri": "https://localhost:8080/",
          "height": 0
        },
        "id": "-XJvrYKO2XRj",
        "outputId": "3a0af9eb-b7f1-4a11-d9e8-396db82107c6"
      },
      "execution_count": 17,
      "outputs": [
        {
          "output_type": "stream",
          "name": "stdout",
          "text": [
            "Average Grade 1: 74.52\n",
            "Average Grade 2: 71.34\n",
            "Average Final Grade: 72.4\n"
          ]
        }
      ]
    },
    {
      "cell_type": "code",
      "source": [
        "# Function: Top 5 Highest Grades Calculator\n",
        "\n",
        "def highest_grades(grades_list, limit=5):\n",
        "     return sorted(grades_list, reverse=True)[:limit]"
      ],
      "metadata": {
        "id": "urNurbmD1eAZ"
      },
      "execution_count": 29,
      "outputs": []
    },
    {
      "cell_type": "code",
      "source": [
        "# Highest Grades - Top 5\n",
        "\n",
        "# Calculate Highest Grades the functions\n",
        "hg_g1 = highest_grades(g1s)\n",
        "hg_g2 = highest_grades(g2s)\n",
        "hg_fg = highest_grades(finals)\n",
        "\n",
        "print(f\"Highest Grade 1: {hg_g1}\")\n",
        "print(f\"Highest Grade 2: {hg_g2}\")\n",
        "print(f\"Highest Final Grade: {hg_fg}\")"
      ],
      "metadata": {
        "colab": {
          "base_uri": "https://localhost:8080/",
          "height": 0
        },
        "id": "3DMLX-sEDpF6",
        "outputId": "135c10f1-744e-46d1-e525-501d0a0c26bd"
      },
      "execution_count": 32,
      "outputs": [
        {
          "output_type": "stream",
          "name": "stdout",
          "text": [
            "Highest Grade 1: [100, 100, 97, 92, 92]\n",
            "Highest Grade 2: [100, 99, 98, 94, 93]\n",
            "Highest Final Grade: [96.0, 96.0, 92.0, 89.0, 88.0]\n"
          ]
        }
      ]
    },
    {
      "cell_type": "code",
      "source": [
        "# Function: Top 5 Highest Grades Names Calculator\n",
        "def top_students(data, grade_index, limit=5):\n",
        "    sorted_data = sorted(data, key=lambda x: x[grade_index], reverse=True)\n",
        "    return [(entry[1], entry[grade_index]) for entry in sorted_data[:limit]]"
      ],
      "metadata": {
        "id": "kq2OT5hBI2Mv"
      },
      "execution_count": 62,
      "outputs": []
    },
    {
      "cell_type": "code",
      "source": [
        "top_g1 = top_students(students_with_final, 2)\n",
        "top_g2 = top_students(students_with_final, 3)\n",
        "top_final = top_students(students_with_final, 4)\n",
        "\n",
        "print(\"\\nTop G1:\", top_g1)\n",
        "print(\"\\nTop G2:\", top_g2)\n",
        "print(\"\\nTop Final:\", top_final)"
      ],
      "metadata": {
        "colab": {
          "base_uri": "https://localhost:8080/",
          "height": 0
        },
        "id": "IhUM9XXnJ3R0",
        "outputId": "6d305004-35a2-49c8-b4bc-4fc4fcf6cc35"
      },
      "execution_count": 68,
      "outputs": [
        {
          "output_type": "stream",
          "name": "stdout",
          "text": [
            "\n",
            "Top G1: [('Ivy Newman', 100), ('Nathan Ellis', 100), ('Jacob Palmer', 97), ('Charlotte Dean', 92), ('Owen Barrett', 92)]\n",
            "\n",
            "Top G2: [('Isaac Doyle', 100), ('James Porter', 99), ('Charlotte Dean', 98), ('Liam Turner', 94), ('Eliza Rowe', 93)]\n",
            "\n",
            "Top Final: [('Charlotte Dean', 96.0), ('Isaac Doyle', 96.0), ('James Porter', 92.0), ('Jacob Palmer', 89.0), ('Liam Turner', 88.0)]\n"
          ]
        }
      ]
    },
    {
      "cell_type": "code",
      "source": [
        "# Better format of the previous Output\n",
        "\n",
        "print(\"\\nTop 5 - Grade 1:\")\n",
        "for i, (name, grade) in enumerate(top_g1, start=1):\n",
        "    print(f\"{i}. {name} - {grade}\")\n",
        "\n",
        "print(\"\\nTop 5 - Grade 2:\")\n",
        "for i, (name, grade) in enumerate(top_g2, start=1):\n",
        "    print(f\"{i}. {name} - {grade}\")\n",
        "\n",
        "print(\"\\nTop 5 - Final Grade:\")\n",
        "for i, (name, grade) in enumerate(top_final, start=1):\n",
        "    print(f\"{i}. {name} - {grade}\")"
      ],
      "metadata": {
        "colab": {
          "base_uri": "https://localhost:8080/",
          "height": 0
        },
        "id": "k2Rx5WO7PGeE",
        "outputId": "985fbb5e-94ec-41c9-a306-164f065a991c"
      },
      "execution_count": 69,
      "outputs": [
        {
          "output_type": "stream",
          "name": "stdout",
          "text": [
            "\n",
            "Top 5 - Grade 1:\n",
            "1. Ivy Newman - 100\n",
            "2. Nathan Ellis - 100\n",
            "3. Jacob Palmer - 97\n",
            "4. Charlotte Dean - 92\n",
            "5. Owen Barrett - 92\n",
            "\n",
            "Top 5 - Grade 2:\n",
            "1. Isaac Doyle - 100\n",
            "2. James Porter - 99\n",
            "3. Charlotte Dean - 98\n",
            "4. Liam Turner - 94\n",
            "5. Eliza Rowe - 93\n",
            "\n",
            "Top 5 - Final Grade:\n",
            "1. Charlotte Dean - 96.0\n",
            "2. Isaac Doyle - 96.0\n",
            "3. James Porter - 92.0\n",
            "4. Jacob Palmer - 89.0\n",
            "5. Liam Turner - 88.0\n"
          ]
        }
      ]
    },
    {
      "cell_type": "markdown",
      "source": [
        "Grading System Classification by Final Grade:\n",
        "\n",
        "*   Passed with Distinction: >85\n",
        "*   Passed with Merit: 70–85 (inclusive)\n",
        "*   Passed: 50-69\n",
        "*   Failed: <50\n"
      ],
      "metadata": {
        "id": "DhIUw_k7YBzB"
      }
    },
    {
      "cell_type": "code",
      "source": [
        "# Function: Classifying Students by Final Grade\n",
        "\n",
        "def classify_students(data):\n",
        "\n",
        "    distinction = 0\n",
        "    merit = 0\n",
        "    passed = 0\n",
        "    failed = 0\n",
        "\n",
        "    for student in data:\n",
        "        final = student[4]\n",
        "\n",
        "        if final > 85:\n",
        "            distinction += 1\n",
        "        elif 70 <= final <= 85:\n",
        "            merit += 1\n",
        "        elif 50 <= final < 70:\n",
        "            passed += 1\n",
        "        else:\n",
        "            failed += 1\n",
        "\n",
        "    return distinction, merit, passed, failed"
      ],
      "metadata": {
        "id": "nofoDZbxWCXb"
      },
      "execution_count": 72,
      "outputs": []
    },
    {
      "cell_type": "code",
      "source": [
        "# Classifying Students by Final Grade\n",
        "\n",
        "distinction, merit, passed, failed = classify_students(students_with_final)\n",
        "\n",
        "print()\n",
        "print(\"Grade Classification:\")\n",
        "print()\n",
        "print(f\"Distinction (>85): {distinction}\")\n",
        "print(f\"Merit (70–85): {merit}\")\n",
        "print(f\"Pass (50–69): {passed}\")\n",
        "print(f\"Fail (<50): {failed}\")"
      ],
      "metadata": {
        "colab": {
          "base_uri": "https://localhost:8080/",
          "height": 0
        },
        "id": "PULGvftjZG9u",
        "outputId": "d02cc1c2-4da9-4e9e-fc9f-93aa7eb66024"
      },
      "execution_count": 80,
      "outputs": [
        {
          "output_type": "stream",
          "name": "stdout",
          "text": [
            "\n",
            "Grade Classification:\n",
            "\n",
            "Distinction (>85): 11\n",
            "Merit (70–85): 19\n",
            "Pass (50–69): 16\n",
            "Fail (<50): 4\n"
          ]
        }
      ]
    },
    {
      "cell_type": "code",
      "source": [
        "# Classifying Students by Final Grade - Calculations\n",
        "\n",
        "TotalPassed = sum([distinction, merit, passed])\n",
        "TotalFailed = failed\n",
        "TotalStudents = TotalPassed + TotalFailed\n",
        "\n",
        "print(f\"Total Passed: {TotalPassed}\")\n",
        "print(f\"Total Failed: {TotalFailed}\")\n",
        "print(f\"Total Students: {TotalStudents}\")\n",
        "\n",
        "Pct_Passed = round((TotalPassed / TotalStudents) * 100, 2)\n",
        "Pct_Failed = round((TotalFailed / TotalStudents) * 100, 2)\n",
        "\n",
        "print(f\"Percentage Passed: {Pct_Passed}%\")\n",
        "print(f\"Percentage Failed: {Pct_Failed}%\")"
      ],
      "metadata": {
        "colab": {
          "base_uri": "https://localhost:8080/",
          "height": 0
        },
        "id": "EAgmlCdqZaq-",
        "outputId": "a412e242-0aec-4122-a0a7-a17738b93182"
      },
      "execution_count": 88,
      "outputs": [
        {
          "output_type": "stream",
          "name": "stdout",
          "text": [
            "Total Passed: 46\n",
            "Total Failed: 4\n",
            "Total Students: 50\n",
            "Percentage Passed: 92.0%\n",
            "Percentage Failed: 8.0%\n"
          ]
        }
      ]
    }
  ]
}